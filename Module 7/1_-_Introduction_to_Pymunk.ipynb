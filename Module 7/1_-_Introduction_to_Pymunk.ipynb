{
 "cells": [
  {
   "cell_type": "markdown",
   "metadata": {},
   "source": [
    "# **<center><font style=\"color:rgb(100,109,254)\">Module 7: Physics + Computer Vision</font> </center>**\n",
    "\n",
    "<center>\n",
    "    <img src='https://drive.google.com/uc?export=download&id=1fZcQOIeX7OVJhsmMH5COSOzbBAxA28UG' width=800> \n",
    "</center>\n",
    "    \n",
    "\n",
    "## **<font style=\"color:rgb(134,19,348)\"> Module Outline </font>**\n",
    "\n",
    "The module can be split into the following parts:\n",
    "\n",
    "- ***Lesson 1:* Introduction to Pymunk** *(This Tutorial)*\n",
    "\n",
    "- *Lesson 2: Integrating Pymunk with OpenCV*\n",
    "\n",
    "- *Lesson 3: Build the Final Application*\n",
    "\n",
    "\n",
    "**Please Note**, these Jupyter Notebooks are not for sharing; do read the Copyright message below the Code License Agreement section which is in the last cell of this notebook.\n",
    "-Taha Anwar\n",
    "\n",
    "Alright, let's get started."
   ]
  },
  {
   "cell_type": "markdown",
   "metadata": {},
   "source": [
    "\n",
    "<center> <img src='https://raw.githubusercontent.com/viblo/pymunk/master/docs/src/_static/pymunk_logo_animation.gif'></center> \n",
    "\n",
    "[Pymunk](http://www.pymunk.org/en/latest/) is an easy-to-use pythonic 2d physics library that can be used whenever you need 2d rigid body physics from Python. Perfect when you need 2d physics in your game, demo, or other application! It is built on top of the very capable 2d physics library [Chipmunk](http://chipmunk-physics.net/).\n",
    "\n",
    "The first version was released in 2007 and Pymunk is still actively developed and maintained today, more than 10 years of active development!\n",
    "\n",
    "Pymunk has been used with success in many projects, big and small. For example, 3 Pyweek game competition winners, more than a dozen published scientific papers, and even in a self-driving car simulation! See the [Showcases section](http://www.pymunk.org/en/latest/showcase.html) on the **[Pymunk webpage](http://www.pymunk.org/en/latest/))** for some examples.\n",
    "\n",
    "## **<font style=\"color:rgb(134,19,348)\">The Pymunk's Vision</font>**\n",
    "\n",
    "<center> “Make 2d physics easy to include in your game” </center>\n",
    "\n",
    "It is (or is striving to be):\n",
    "\n",
    "- **Easy to use** - It should be easy to use, no complicated code should be needed to add physics to your game or program.\n",
    "\n",
    "- **“Pythonic”** - It should not be visible that a c-library (Chipmunk) is at the bottom, it should feel like a Python library (no strange naming, OO, no memory handling, and more)\n",
    "\n",
    "- **Simple to build & install** - You shouldn’t need to have a zillion libraries installed to make it install, or do a lot of command-line tricks.\n",
    "\n",
    "- **Multi-platform** - Should work on both Windows, *nix, and OSX.\n",
    "\n",
    "- **Non-intrusive** - It should not put restrictions on how you structure your program and not force you to use a special game loop, it should be possible to use with other libraries like Pygame, Pyglet, and OpenCV."
   ]
  },
  {
   "cell_type": "markdown",
   "metadata": {},
   "source": [
    "## **<font style=\"color:rgb(134,19,348)\">Installation</font>**\n",
    "\n",
    "To install it using pip, we just have to run the following command."
   ]
  },
  {
   "cell_type": "code",
   "execution_count": 1,
   "metadata": {
    "collapsed": true,
    "jupyter": {
     "outputs_hidden": true
    }
   },
   "outputs": [
    {
     "name": "stdout",
     "output_type": "stream",
     "text": [
      "Collecting pymunk\n",
      "  Downloading pymunk-6.2.1-cp310-cp310-win_amd64.whl (286 kB)\n",
      "     -------------------------------------- 286.3/286.3 kB 1.4 MB/s eta 0:00:00\n",
      "Requirement already satisfied: cffi>=1.15.0 in c:\\users\\rahma\\appdata\\local\\programs\\python\\python310\\lib\\site-packages (from pymunk) (1.15.1)\n",
      "Requirement already satisfied: pycparser in c:\\users\\rahma\\appdata\\local\\programs\\python\\python310\\lib\\site-packages (from cffi>=1.15.0->pymunk) (2.21)\n",
      "Installing collected packages: pymunk\n",
      "Successfully installed pymunk-6.2.1\n"
     ]
    }
   ],
   "source": [
    "!pip install pymunk"
   ]
  },
  {
   "cell_type": "markdown",
   "metadata": {},
   "source": [
    "### **<font style=\"color:rgb(134,19,348)\"> Import the Libraries</font>**\n",
    "\n",
    "After installation, we will import the required libraries."
   ]
  },
  {
   "cell_type": "code",
   "execution_count": 2,
   "metadata": {
    "tags": []
   },
   "outputs": [],
   "source": [
    "import cv2\n",
    "import pymunk\n",
    "import numpy as np\n",
    "import pymunk.matplotlib_util\n",
    "import matplotlib.pyplot as plt"
   ]
  },
  {
   "cell_type": "markdown",
   "metadata": {},
   "source": [
    "## **<font style=\"color:rgb(134,19,348)\">Pymunk's Basics</font>**\n",
    "\n",
    "To get started with Pymunk, you must know about the following three classes:\n",
    "\n",
    "1. **Rigid Bodies** ([**`pymunk.Body`**](http://www.pymunk.org/en/latest/pymunk.html#pymunk.Body)); A rigid body holds the physical properties of an object (mass, position, rotation, velocity, etc.). It does not have a shape by itself.\n",
    "\n",
    "2. **Collision Shapes** ([**`pymunk.Circle`**](http://www.pymunk.org/en/latest/pymunk.html#pymunk.Circle), [**`pymunk.Segment`**](http://www.pymunk.org/en/latest/pymunk.html#pymunk.Segment) and [**`pymunk.Poly`**](http://www.pymunk.org/en/latest/pymunk.html#pymunk.Poly)); By attaching shapes to bodies, you can define a body’s shape. You can attach many shapes to a single body to define a complex shape, or none if it doesn’t require a shape.\n",
    "\n",
    "3. **Spaces** ([**`pymunk.Space`**](http://www.pymunk.org/en/latest/pymunk.html#pymunk.Space)); Spaces are the basic simulation unit in Pymunk. You add bodies, and shapes to a space (using [**`pymunk.space.add()`**](http://www.pymunk.org/en/latest/pymunk.html#pymunk.Space.add)), and then update the space as a whole (using [**`pymunk.space.step()`**](http://www.pymunk.org/en/latest/pymunk.html#pymunk.Space.step)). They control how all the rigid bodies, shapes, and constraints interact together."
   ]
  },
  {
   "cell_type": "code",
   "execution_count": 17,
   "metadata": {
    "tags": []
   },
   "outputs": [
    {
     "name": "stdout",
     "output_type": "stream",
     "text": [
      "The body is added to the space successfully.\n"
     ]
    }
   ],
   "source": [
    "# Create a Space which will contain the simulation.\n",
    "space = pymunk.Space()\n",
    "\n",
    "# Create a Body.\n",
    "body = pymunk.Body()\n",
    "\n",
    "# Set the position of the body.\n",
    "body.position = 300,300     \n",
    "\n",
    "# Create a shape and attach it to the body.\n",
    "# Uncomments these lines one by one to see how each shape looks like.\n",
    "shape = pymunk.Circle(body, radius=100)    \n",
    "#shape = pymunk.Segment(body, a=(0, 0), b=(200, 200), radius=10)    \n",
    "#shape = pymunk.Poly(body, vertices=[(0,0), (200,0), (200,200)])    \n",
    "#shape = pymunk.Poly.create_box(body, size=(100,100))\n",
    "\n",
    "# Set the gravity.\n",
    "space.gravity = 0, -500 \n",
    "\n",
    "# Add both the body and the shape to the simulation.\n",
    "space.add(body, shape)  \n",
    "\n",
    "# Display the success message.\n",
    "print('The body is added to the space successfully.')"
   ]
  },
  {
   "cell_type": "markdown",
   "metadata": {},
   "source": [
    "Now that we have created a body with a shape and have added it to the space, let's utilize the [**`pymunk.matplotlib_util.DrawOptions()`**](http://www.pymunk.org/en/latest/pymunk.matplotlib_util.html#pymunk.matplotlib_util.DrawOptions) with the [**`space.debug_draw()`**](http://www.pymunk.org/en/latest/pymunk.html#pymunk.Space.debug_draw) to draw the current state of the space on a matplotlib figure."
   ]
  },
  {
   "cell_type": "code",
   "execution_count": 18,
   "metadata": {
    "tags": []
   },
   "outputs": [
    {
     "data": {
      "image/png": "[encoded data removed]",
      "text/plain": [
       "<Figure size 500x500 with 1 Axes>"
      ]
     },
     "metadata": {},
     "output_type": "display_data"
    }
   ],
   "source": [
    "# Create a new figure.\n",
    "fig = plt.figure(figsize=(5,5))\n",
    "\n",
    "# Add an axes to the current figure\n",
    "ax = plt.axes(xlim=(0, 600), ylim=(0, 600))\n",
    "\n",
    "# Set the aspect ratio of the axes scaling, i.e. y/x-scale.\n",
    "ax.set_aspect(\"equal\")\n",
    "\n",
    "# Draw the current state of the space.\n",
    "space.debug_draw(pymunk.matplotlib_util.DrawOptions(ax))"
   ]
  },
  {
   "cell_type": "markdown",
   "metadata": {},
   "source": [
    "### **<font style=\"color:rgb(134,19,348)\">Quick Simulation Example</font>**\n",
    "\n",
    "Now let's create a simple example in order to get your feet wet with this tool. "
   ]
  },
  {
   "cell_type": "code",
   "execution_count": 23,
   "metadata": {
    "tags": []
   },
   "outputs": [
    {
     "name": "stdout",
     "output_type": "stream",
     "text": [
      "50 0\n",
      "50 0\n",
      "50 0\n",
      "50 1\n",
      "50 2\n",
      "50 3\n",
      "50 4\n",
      "50 5\n",
      "50 7\n",
      "50 9\n",
      "50 11\n",
      "50 13\n",
      "50 15\n",
      "50 18\n",
      "50 21\n",
      "50 24\n",
      "50 27\n",
      "50 30\n",
      "50 34\n",
      "50 38\n"
     ]
    }
   ],
   "source": [
    "# Create a Space which will contain the simulation.\n",
    "space = pymunk.Space()\n",
    "\n",
    "# Set the gravity (x and y coordinates values).\n",
    "# Gravity is the force that will be applied on the bodies inside the space.\n",
    "space.gravity = 0, 500  \n",
    "\n",
    "# Create a Body.\n",
    "body = pymunk.Body()\n",
    "\n",
    "# Set the position of the body.\n",
    "body.position = 50, 0   \n",
    "\n",
    "# Create a circle shape and attach it to the body.\n",
    "shape = pymunk.Circle(body, radius=10)\n",
    "\n",
    "# Set the mass of the shape.\n",
    "# The mass of the body is defined as the quantity of matter that is contained in it.\n",
    "shape.mass = 1             \n",
    "\n",
    "# Add both the body and the shape to the simulation.\n",
    "space.add(body, shape)\n",
    "\n",
    "  # Check the value of y change as you move the simulation.\n",
    "for x in range(20):\n",
    "    space.step(0.02) \n",
    "    print(int(body.position[0]), int(body.position[1]))"
   ]
  },
  {
   "cell_type": "markdown",
   "metadata": {},
   "source": [
    "### **<font style=\"color:rgb(134,19,348)\">Simulation with Visualization Example</font>**\n",
    "\n",
    "Now let's create a simple example in order to get your feet wet with this tool. "
   ]
  },
  {
   "cell_type": "code",
   "execution_count": 29,
   "metadata": {
    "tags": []
   },
   "outputs": [],
   "source": [
    "# Create a Space which will contain the simulation.\n",
    "space = pymunk.Space()\n",
    "\n",
    "# Set the gravity (x and y coordinates values).\n",
    "# Gravity is the force that will be applied on the bodies inside the space.\n",
    "space.gravity = 0, 500  \n",
    "\n",
    "# Initialize a variable to store the frame counter.\n",
    "frame_counter = 0\n",
    "\n",
    "# Iterate until the 'break' statement is executed.\n",
    "while True:\n",
    "    \n",
    "    # Create a black image/canvas.\n",
    "    image = np.zeros(shape=(500, 500, 3), dtype=np.uint8)\n",
    "    \n",
    "    # Check if the frame count is divisible by 10.\n",
    "    if frame_counter%10 == 0:\n",
    "        \n",
    "        # Create a Body.\n",
    "        body = pymunk.Body()\n",
    "\n",
    "        # Set the position of the body.\n",
    "        body.position = np.random.choice(range(0,500)), 0     \n",
    "\n",
    "        # Create a circle shape and attach it to the body.\n",
    "        shape = pymunk.Circle(body, radius=10)\n",
    "\n",
    "        # Set the mass of the shape.\n",
    "        # The mass of the body is defined as the quantity of matter that is contained in it.\n",
    "        shape.mass = 1       \n",
    "\n",
    "        # Add both the body and the shape to the simulation.\n",
    "        space.add(body, shape)\n",
    "\n",
    "    # Iterate over the bodies in the space.\n",
    "    for body in space.bodies:\n",
    "        \n",
    "        # Check if the ball's current position y-coordinate is < 500, \n",
    "        # which means that ball is still inside the frame.\n",
    "        if body.position.y < 500:\n",
    "    \n",
    "            # Draw a circle on the current position of the body.\n",
    "            cv2.circle(image, center=(int(body.position[0]), int(body.position[1])), radius=10, \n",
    "                       color=(0,255,255), thickness=-1)\n",
    "            \n",
    "        # Otherwise.\n",
    "        else:\n",
    "            \n",
    "            # Remove the body from the space.\n",
    "            space.remove(body, *list(body.shapes))\n",
    "                                                                                           \n",
    "    # Display the image.\n",
    "    cv2.imshow('Simulation', image)\n",
    "    \n",
    "    # Increment the frame counter.\n",
    "    frame_counter+=1\n",
    "    \n",
    "    # Step the simulation one step forward.\n",
    "    space.step(0.02)\n",
    "    \n",
    "    # Wait for 1ms. If a key is pressed, retreive the ASCII code of the key.\n",
    "    k = cv2.waitKey(1) & 0xFF\n",
    "    \n",
    "    # Check if 'ESC' is pressed and break the loop.\n",
    "    if k == 27:\n",
    "        break\n",
    "\n",
    "# Close the windows.\n",
    "cv2.destroyAllWindows()\n",
    "\n",
    "\n",
    "\n",
    "\n",
    "# Additional comments:\n",
    "#       - In summary, we use Pymunk to create bodies.\n",
    "#         And using that body as the core, we stick/add\n",
    "#         shapes in it (This could be a segment, circle, poly, etc.)\n",
    "#       - Once a sufficient body has been made, we put it\n",
    "#         inside a pre-initialized pymunk space where\n",
    "#         it will simulate physics.\n",
    "#       - There are things that could affect the simulation,\n",
    "#         and these are:\n",
    "#               - space.step : it is how fast the simulation should go.\n",
    "#                              if you increase this value, it would look\n",
    "#                              like you are fast forwarding a video.\n",
    "#               - shape.mass : So this is how heavy the shape/body will be\n",
    "#                              if you increase this on a specific body/shape,\n",
    "#                              that shape will be pulled to the ground faster."
   ]
  },
  {
   "cell_type": "markdown",
   "metadata": {},
   "source": [
    "As you can see that the simulation is working fine (all the balls are falling downwards as they should be), but you may have noticed that we have applied positive gravitation force on the y-coordinate but in order to move bodies downwards, shouldn't we need negative gravitation force? Let's discuss this in the next lesson."
   ]
  },
  {
   "cell_type": "markdown",
   "metadata": {},
   "source": [
    "#### Further Resources:\n",
    "\n",
    "- **Pymunk + Pygame Tutorial series:** [Link](https://www.youtube.com/playlist?list=PL_N_kL9gRTm8lh7GxFHh3ym1RXi6I6c50)\n",
    "- **(Alternative)** 20 min video: [Link](https://www.youtube.com/watch?v=YrNpkuVIFdg)\n"
   ]
  },
  {
   "cell_type": "markdown",
   "metadata": {},
   "source": [
    "### **<font style=\"color:rgb(255,140,0)\"> Code License Agreement </font>**\n",
    "```\n",
    "Copyright (c) 2022 Bleedai.com\n",
    "\n",
    "Feel free to use this code for your own projects commercial or noncommercial, these projects can be Research-based, just for fun, for-profit, or even Education with the exception that you’re not going to use it for developing a course, book, guide, or any other educational products.\n",
    "\n",
    "Under *NO CONDITION OR CIRCUMSTANCE* you may use this code for your own paid educational or self-promotional ventures without written consent from Taha Anwar (BleedAI.com).\n",
    "\n",
    "```\n"
   ]
  }
 ],
 "metadata": {
  "kernelspec": {
   "display_name": "Python 3.10.6 64-bit",
   "language": "python",
   "name": "python3"
  },
  "language_info": {
   "codemirror_mode": {
    "name": "ipython",
    "version": 3
   },
   "file_extension": ".py",
   "mimetype": "text/x-python",
   "name": "python",
   "nbconvert_exporter": "python",
   "pygments_lexer": "ipython3",
   "version": "3.10.6"
  },
  "vscode": {
   "interpreter": {
    "hash": "ab2c83b243fb879010d169f2f59fe1d865a42357da3e2fb5ab94d633edfe058a"
   }
  }
 },
 "nbformat": 4,
 "nbformat_minor": 4
}
