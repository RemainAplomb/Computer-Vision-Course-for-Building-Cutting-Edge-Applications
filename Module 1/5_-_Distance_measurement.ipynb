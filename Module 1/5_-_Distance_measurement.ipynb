{
 "cells": [
  {
   "cell_type": "markdown",
   "metadata": {
    "tags": []
   },
   "source": [
    "# **<center><font style=\"color:rgb(100,109,254)\">Module 1: Creating a Live Gesture Control Application</font> </center>**\n",
    "\n",
    "<img src='https://drive.google.com/uc?export=download&id=10xY6U-4CecBuMkbONZp6bPx7BAZB6xfX'>\n",
    "\n",
    "## **<font style=\"color:rgb(134,19,348)\"> Module Outline </font>**\n",
    "\n",
    "The module can be split into the following parts:\n",
    "\n",
    "- *Lesson 1: Introduction to hand landmark detection theory*\n",
    "\n",
    "- *Lesson 2:* Create a Hands Landmarks Detector\n",
    "\n",
    "- *Lesson 3:* Build a Hands Fingers Counter\n",
    "\n",
    "- *Lesson 4:* Build a Hand Gesture Recognizer \n",
    "\n",
    "- ***Lesson 5:* Distance measurement** *(This Tutorial)*\n",
    "\n",
    "- *Lesson 6:* Brightness, Saturation, Contrast Enhancement & Gamma Correction\n",
    "\n",
    "- *Lesson 7:* Build the Final Application\n",
    "\n",
    "**Please Note**, these Jupyter Notebooks are not for sharing; do read the Copyright message below the Code License Agreement section which is in the last cell of this notebook.\n",
    "-Taha Anwar\n",
    "\n",
    "Alright, let's get started."
   ]
  },
  {
   "cell_type": "code",
   "execution_count": 1,
   "metadata": {
    "tags": []
   },
   "outputs": [],
   "source": [
    "import cv2\n",
    "import math\n",
    "import numpy as np\n",
    "import mediapipe as mp\n",
    "import matplotlib.pyplot as plt\n",
    "from scipy.interpolate import interp1d\n",
    "from previous_lesson import detectHandsLandmarks, countFingers"
   ]
  },
  {
   "cell_type": "markdown",
   "metadata": {},
   "source": [
    "## **<font style=\"color:rgb(134,19,348)\">Initialize the Hands Landmarks Detection Model</font>**\n",
    "\n",
    "After that, we will need to initialize the **`mp.solutions.hands`** class and then set up the **`mp.solutions.hands.Hands()`** function with appropriate arguments and also initialize **`mp.solutions.drawing_utils`** class that is required to visualize the detected landmarks, as we have been doing in the previous lessons."
   ]
  },
  {
   "cell_type": "code",
   "execution_count": 2,
   "metadata": {
    "tags": []
   },
   "outputs": [],
   "source": [
    "# Initialize the mediapipe hands class.\n",
    "mp_hands = mp.solutions.hands\n",
    "\n",
    "# Set up the Hands functions for images and videos.\n",
    "hands = mp_hands.Hands(static_image_mode=True, max_num_hands=2, min_detection_confidence=0.3)\n",
    "hands_videos = mp_hands.Hands(static_image_mode=False, max_num_hands=2, min_detection_confidence=0.8)\n",
    "\n",
    "# Initialize the mediapipe drawing class.\n",
    "mp_drawing = mp.solutions.drawing_utils"
   ]
  },
  {
   "cell_type": "markdown",
   "metadata": {},
   "source": [
    "## **<font style=\"color:rgb(134,19,348)\">Create a Calculate Distance Function</font>**\n",
    "\n",
    "Now We will create a function that will simply calculate the distance between two points on an image using the function [**`math.hypot()`**](https://docs.python.org/3/library/math.html#math.hypot). We will also draw circles using the function [**`cv2.circle()`**](https://docs.opencv.org/3.4/d6/d6e/group__imgproc__draw.html#gaf10604b069374903dbd0f0488cb43670) on the two points and a line joining the two points with the help of the function [**`cv2.line()`**](https://docs.opencv.org/3.4/d6/d6e/group__imgproc__draw.html#ga7078a9fae8c7e7d13d24dac2520ae4a2)."
   ]
  },
  {
   "cell_type": "code",
   "execution_count": 3,
   "metadata": {
    "tags": []
   },
   "outputs": [],
   "source": [
    "def calculateDistance(image, point1, point2, draw=True, display=True):\n",
    "    '''\n",
    "    This function will calculate distance between two points on an image.\n",
    "    Args:\n",
    "        image:   The image on which the two points are.\n",
    "        point1:  A point with x and y coordinates values on the image.\n",
    "        point2:  Another point with x and y coordinates values on the image.\n",
    "        draw:    A boolean value that is if set to true the function draws a line between the \n",
    "                 points and write the calculated distance on the image\n",
    "        display: A boolean value that is if set to true the function displays the output image \n",
    "                 and returns nothing.\n",
    "    Returns:\n",
    "        distance: The calculated distance between the two points.\n",
    "        \n",
    "    '''\n",
    "    \n",
    "    # Initialize the value of the distance variable.\n",
    "    distance = None\n",
    "    \n",
    "    # Get the x and y coordinates of the points.\n",
    "    x1, y1 = point1\n",
    "    x2, y2 = point2\n",
    "    \n",
    "    # Check if all the coordinates values are processable.\n",
    "    if isinstance(x1, int) and isinstance(y1, int) \\\n",
    "    and isinstance(x2, int) and isinstance(y2, int):\n",
    "        \n",
    "        # Calculate the distance between the two points.\n",
    "        distance = math.hypot(x2 - x1, y2 - y1)\n",
    "        \n",
    "        # Check if the distance is greater than the upper threshold.\n",
    "        if distance > 230:\n",
    "            \n",
    "            # Set the distance to the upper threshold.\n",
    "            distance = 230\n",
    "        \n",
    "        # Check if the distance is lesser than the lower threshold.\n",
    "        elif distance < 30:\n",
    "            \n",
    "             # Set the distance to the lower threshold.\n",
    "            distance = 30\n",
    "            \n",
    "        if draw:\n",
    "\n",
    "            # Draw a line between the two points on the image. \n",
    "            cv2.line(image, (int(x1), int(y1)), (int(x2), int(y2)),\n",
    "                     (255, 0, 255), 4)\n",
    "\n",
    "            # Draw a circle on the first point on the image.\n",
    "            cv2.circle(image, (int(x1), int(y1)), 20, (0, 255, 0), -1)\n",
    "\n",
    "            # Draw a circle on the second point on the image.\n",
    "            cv2.circle(image, (int(x2), int(y2)), 20, (0, 255, 0), -1)\n",
    "\n",
    "            # Write the calculated distance between the two points on the image.\n",
    "            cv2.putText(image, f'Distance: {round(distance, 2)}', (10, 30), \n",
    "                        cv2.FONT_HERSHEY_COMPLEX, 1, (255,255,255), 2)\n",
    "            \n",
    "    # Check if the image is specified to be displayed.\n",
    "    if display:\n",
    "        \n",
    "        # Display the resultant image.\n",
    "        plt.figure(figsize=[10,10])\n",
    "        plt.imshow(image[:,:,::-1]);plt.title(\"Output Image\");plt.axis('off');\n",
    "    \n",
    "    # Return the calculated distance.\n",
    "    return distance"
   ]
  },
  {
   "cell_type": "markdown",
   "metadata": {},
   "source": [
    "Now we will check if the function **`calculateDistance()`** created above, is working or not, by calculating the distance between two points on a few sample images."
   ]
  },
  {
   "cell_type": "code",
   "execution_count": 4,
   "metadata": {
    "tags": []
   },
   "outputs": [
    {
     "data": {
      "image/png": "[encoded data removed]",
      "text/plain": [
       "<Figure size 1000x1000 with 1 Axes>"
      ]
     },
     "metadata": {},
     "output_type": "display_data"
    }
   ],
   "source": [
    "# Calculate the distance between two points and display the results.\n",
    "image = np.zeros((960, 1280, 3), np.uint8)\n",
    "distance = calculateDistance(image, point1=(450,120), point2=(500,220))"
   ]
  },
  {
   "cell_type": "code",
   "execution_count": 5,
   "metadata": {
    "tags": []
   },
   "outputs": [
    {
     "data": {
      "image/png": "[encoded data removed]",
      "text/plain": [
       "<Figure size 1000x1000 with 1 Axes>"
      ]
     },
     "metadata": {},
     "output_type": "display_data"
    }
   ],
   "source": [
    "# Calculate the distance between two points and display the results.\n",
    "image = np.zeros((960, 1280, 3), np.uint8)\n",
    "distance = calculateDistance(image, point1=(600,150), point2=(650,200))"
   ]
  },
  {
   "cell_type": "code",
   "execution_count": 6,
   "metadata": {
    "tags": []
   },
   "outputs": [
    {
     "data": {
      "image/png": "[encoded data removed]",
      "text/plain": [
       "<Figure size 1000x1000 with 1 Axes>"
      ]
     },
     "metadata": {},
     "output_type": "display_data"
    }
   ],
   "source": [
    "# Calculate the distance between two points and display the results.\n",
    "image = np.zeros((960, 1280, 3), np.uint8)\n",
    "distance = calculateDistance(image, point1=(800,520), point2=(850,550))"
   ]
  },
  {
   "cell_type": "markdown",
   "metadata": {},
   "source": [
    "Working fine! Now lets test it on real-time webcam feed to calculate distance between the tips of the `MIDDLE` finger and the `THUMB` of the right hand. We will use the function **`countFingers()`**, from a previous tutorial to get the tips landmarks of the fingers. We will also draw a bar (rectangle) on the frame whose height will increase/decrease in real-time with the increase/decrease of the distance between the fingers. For this, we will use the [**`scipy.interpolate.interp1d()`**](https://docs.scipy.org/doc/scipy/reference/generated/scipy.interpolate.interp1d.html) function to get the height of the bar (rectangle) based on the current distance."
   ]
  },
  {
   "cell_type": "code",
   "execution_count": 7,
   "metadata": {
    "tags": []
   },
   "outputs": [],
   "source": [
    "# Initialize the VideoCapture object to read from the webcam.\n",
    "camera_video = cv2.VideoCapture(0)\n",
    "camera_video.set(3,1280)\n",
    "camera_video.set(4,960)\n",
    "\n",
    "# Create named window for resizing purposes.\n",
    "cv2.namedWindow('Distance Measurement', cv2.WINDOW_NORMAL)\n",
    "\n",
    "# Iterate until the webcam is accessed successfully.\n",
    "while camera_video.isOpened():\n",
    "    \n",
    "    # Read a frame.\n",
    "    ok, frame = camera_video.read()\n",
    "    \n",
    "    # Check if frame is not read properly then continue to the next iteration to read the next frame.\n",
    "    if not ok:\n",
    "        continue\n",
    "        \n",
    "    # Get the height and width of the frame of the webcam video.\n",
    "    frame_height, frame_width, _ = frame.shape\n",
    "    \n",
    "    # Flip the frame horizontally for natural (selfie-view) visualization.\n",
    "    frame = cv2.flip(frame, 1)\n",
    "    \n",
    "    # Perform Hands landmarks detection on the frame.\n",
    "    frame, results = detectHandsLandmarks(frame, hands_videos, display=False)\n",
    "    \n",
    "    # Check if the hands landmarks in the frame are detected.\n",
    "    if results.multi_hand_landmarks:\n",
    "        \n",
    "        # Get the tips landmarks of the detected hand(s).\n",
    "        _, _, fingers_tips_position = countFingers(frame, results,\n",
    "                                                   draw=False, display=False)\n",
    "        \n",
    "        # Get the tips landmarks of the right hand.\n",
    "        size_gesture_tip_pts = fingers_tips_position['RIGHT']\n",
    "        \n",
    "        # Calculate the distance between the right hand middle finger tip and thumb tip landmark of the right hand.\n",
    "        distance = calculateDistance(frame, size_gesture_tip_pts['MIDDLE'],\n",
    "                                     size_gesture_tip_pts['THUMB'], display=False)\n",
    "        \n",
    "        # Check if the distance is calculated successfully.\n",
    "        if distance:\n",
    "        \n",
    "            # Get the interpolation function and calculate the bar value.\n",
    "            # This will be used to draw a filled rectangle of height varying with the distance.\n",
    "            bar_interp_f = interp1d([30,230],  [frame_height-50, frame_height-400])\n",
    "            bar_value = bar_interp_f(distance) \n",
    "\n",
    "            # Draw the filled rectangle with varying height on the frame.\n",
    "            cv2.rectangle(frame, (frame_width-80, int(bar_value)), \n",
    "                          (frame_width-50, frame_height-50), (255, 0, 255), -1)\n",
    "\n",
    "            # Draw another rectangle around the filled rectangle on the frame.\n",
    "            cv2.rectangle(frame, (frame_width-80, frame_height-400),\n",
    "                          (frame_width-50, frame_height-50), (0, 255, 0), 6)\n",
    "                \n",
    "    # Display the frame.\n",
    "    cv2.imshow('Distance Measurement', frame)\n",
    "    \n",
    "    # Wait for 1ms. If a key is pressed, retreive the ASCII code of the key.\n",
    "    k = cv2.waitKey(1) & 0xFF\n",
    "    \n",
    "    # Check if 'ESC' is pressed and break the loop.\n",
    "    if(k == 27):\n",
    "        break\n",
    "\n",
    "# Release the VideoCapture Object and close the windows.\n",
    "camera_video.release()\n",
    "cv2.destroyAllWindows()\n",
    "\n",
    "\n",
    "# Additional comments:\n",
    "#           - To sum it up, this program will use the tip of\n",
    "#             the thumb and middle finger. Using the x, y\n",
    "#             coordinates of these landmarks, the difference\n",
    "#             will be calculated. And that difference is used\n",
    "#             to update the bar on the right side, and the \n",
    "#             exact disctance counter on top left.\n",
    "#           - Furthermore, some clips were added so that when\n",
    "#             the distance exceeds the desired range, it will\n",
    "#             be set to the treshold."
   ]
  },
  {
   "cell_type": "markdown",
   "metadata": {},
   "source": [
    "Great! working as expected."
   ]
  },
  {
   "cell_type": "markdown",
   "metadata": {},
   "source": [
    "### **<font style=\"color:rgb(255,140,0)\"> Code License Agreement </font>**\n",
    "```\n",
    "Copyright (c) 2022 Bleedai.com\n",
    "\n",
    "Feel free to use this code for your own projects commercial or noncommercial, these projects can be Research-based, just for fun, for-profit, or even Education with the exception that you’re not going to use it for developing a course, book, guide, or any other educational products.\n",
    "\n",
    "Under *NO CONDITION OR CIRCUMSTANCE* you may use this code for your own paid educational or self-promotional ventures without written consent from Taha Anwar (BleedAI.com).\n",
    "\n",
    "```\n"
   ]
  }
 ],
 "metadata": {
  "kernelspec": {
   "display_name": "Python 3.10.6 64-bit",
   "language": "python",
   "name": "python3"
  },
  "language_info": {
   "codemirror_mode": {
    "name": "ipython",
    "version": 3
   },
   "file_extension": ".py",
   "mimetype": "text/x-python",
   "name": "python",
   "nbconvert_exporter": "python",
   "pygments_lexer": "ipython3",
   "version": "3.10.6"
  },
  "vscode": {
   "interpreter": {
    "hash": "ab2c83b243fb879010d169f2f59fe1d865a42357da3e2fb5ab94d633edfe058a"
   }
  }
 },
 "nbformat": 4,
 "nbformat_minor": 4
}
